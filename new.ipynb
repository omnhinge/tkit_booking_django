{
 "cells": [
  {
   "cell_type": "code",
   "execution_count": 1,
   "id": "2f6f82b8",
   "metadata": {},
   "outputs": [
    {
     "name": "stdout",
     "output_type": "stream",
     "text": [
      "pymysql version: 1.4.6\n"
     ]
    }
   ],
   "source": [
    "import pymysql\n",
    "print(\"pymysql version:\", pymysql.__version__)"
   ]
  },
  {
   "cell_type": "code",
   "execution_count": null,
   "id": "006b2235",
   "metadata": {},
   "outputs": [],
   "source": []
  }
 ],
 "metadata": {
  "kernelspec": {
   "display_name": "Python 3",
   "language": "python",
   "name": "python3"
  },
  "language_info": {
   "codemirror_mode": {
    "name": "ipython",
    "version": 3
   },
   "file_extension": ".py",
   "mimetype": "text/x-python",
   "name": "python",
   "nbconvert_exporter": "python",
   "pygments_lexer": "ipython3",
   "version": "3.13.2"
  }
 },
 "nbformat": 4,
 "nbformat_minor": 5
}
